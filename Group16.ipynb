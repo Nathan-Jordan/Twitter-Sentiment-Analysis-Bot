{
  "nbformat": 4,
  "nbformat_minor": 0,
  "metadata": {
    "colab": {
      "name": "Group16.ipynb",
      "provenance": [],
      "collapsed_sections": [],
      "include_colab_link": true
    },
    "kernelspec": {
      "name": "python3",
      "display_name": "Python 3"
    },
    "accelerator": "GPU"
  },
  "cells": [
    {
      "cell_type": "markdown",
      "metadata": {
        "id": "view-in-github",
        "colab_type": "text"
      },
      "source": [
        "<a href=\"https://colab.research.google.com/github/Nathan-Jordan/Twitter-Sentiment-Analysis-Bot/blob/main/Group16.ipynb\" target=\"_parent\"><img src=\"https://colab.research.google.com/assets/colab-badge.svg\" alt=\"Open In Colab\"/></a>"
      ]
    },
    {
      "cell_type": "code",
      "metadata": {
        "id": "sF2mRiOZa1Ms",
        "outputId": "1ccb0293-9a88-46cb-ef1d-34228c80f510",
        "colab": {
          "base_uri": "https://localhost:8080/",
          "height": 372
        }
      },
      "source": [
        "# Install Tweepy\n",
        "#Saman\n",
        "#Nathan\n",
        "#Daniel\n",
        "#Pip\n",
        "#Georgios\n",
        "#Abraham\n",
        "#Dume\n",
        "!pip install tweepy\n",
        "#Installation of graph interface\n",
        "!pip install matplotlib"
      ],
      "execution_count": null,
      "outputs": [
        {
          "output_type": "stream",
          "text": [
            "Requirement already satisfied: tweepy in /usr/local/lib/python3.6/dist-packages (3.6.0)\n",
            "Requirement already satisfied: PySocks>=1.5.7 in /usr/local/lib/python3.6/dist-packages (from tweepy) (1.7.1)\n",
            "Requirement already satisfied: six>=1.10.0 in /usr/local/lib/python3.6/dist-packages (from tweepy) (1.15.0)\n",
            "Requirement already satisfied: requests>=2.11.1 in /usr/local/lib/python3.6/dist-packages (from tweepy) (2.23.0)\n",
            "Requirement already satisfied: requests-oauthlib>=0.7.0 in /usr/local/lib/python3.6/dist-packages (from tweepy) (1.3.0)\n",
            "Requirement already satisfied: urllib3!=1.25.0,!=1.25.1,<1.26,>=1.21.1 in /usr/local/lib/python3.6/dist-packages (from requests>=2.11.1->tweepy) (1.24.3)\n",
            "Requirement already satisfied: chardet<4,>=3.0.2 in /usr/local/lib/python3.6/dist-packages (from requests>=2.11.1->tweepy) (3.0.4)\n",
            "Requirement already satisfied: idna<3,>=2.5 in /usr/local/lib/python3.6/dist-packages (from requests>=2.11.1->tweepy) (2.10)\n",
            "Requirement already satisfied: certifi>=2017.4.17 in /usr/local/lib/python3.6/dist-packages (from requests>=2.11.1->tweepy) (2020.6.20)\n",
            "Requirement already satisfied: oauthlib>=3.0.0 in /usr/local/lib/python3.6/dist-packages (from requests-oauthlib>=0.7.0->tweepy) (3.1.0)\n",
            "Requirement already satisfied: matplotlib in /usr/local/lib/python3.6/dist-packages (3.2.2)\n",
            "Requirement already satisfied: cycler>=0.10 in /usr/local/lib/python3.6/dist-packages (from matplotlib) (0.10.0)\n",
            "Requirement already satisfied: python-dateutil>=2.1 in /usr/local/lib/python3.6/dist-packages (from matplotlib) (2.8.1)\n",
            "Requirement already satisfied: numpy>=1.11 in /usr/local/lib/python3.6/dist-packages (from matplotlib) (1.18.5)\n",
            "Requirement already satisfied: pyparsing!=2.0.4,!=2.1.2,!=2.1.6,>=2.0.1 in /usr/local/lib/python3.6/dist-packages (from matplotlib) (2.4.7)\n",
            "Requirement already satisfied: kiwisolver>=1.0.1 in /usr/local/lib/python3.6/dist-packages (from matplotlib) (1.2.0)\n",
            "Requirement already satisfied: six in /usr/local/lib/python3.6/dist-packages (from cycler>=0.10->matplotlib) (1.15.0)\n",
            "Requirement already satisfied: textblob in /usr/local/lib/python3.6/dist-packages (0.15.3)\n",
            "Requirement already satisfied: nltk>=3.1 in /usr/local/lib/python3.6/dist-packages (from textblob) (3.2.5)\n",
            "Requirement already satisfied: six in /usr/local/lib/python3.6/dist-packages (from nltk>=3.1->textblob) (1.15.0)\n"
          ],
          "name": "stdout"
        }
      ]
    },
    {
      "cell_type": "code",
      "metadata": {
        "id": "MBSMP6OHbDo9"
      },
      "source": [
        "import re\n",
        "import tweepy\n",
        "#importing the graph interface\n",
        "import matplotlib.pyplot as plt\n",
        "from tweepy import OAuthHandler\n",
        "from datetime import datetime\n",
        "from pytz import timezone\n",
        "\n",
        "consumer_api_key = 'WnOse4KW0dwPNcrYtymJ11jMQ'\n",
        "consumer_api_secret = 's9DhKqHASJISJETy462fupugBRMRDoTzRxvUfLJCU4N5fe3Jfl' \n",
        "access_token = '1315961217740091392-ZXiF60BdxeQ8irqRAItWyZ567b0HDQ'\n",
        "access_token_secret ='wL2NRBt7sl3ldb8eVHjjxGEZgY2jgqslZOPROcQiG3U0L'"
      ],
      "execution_count": null,
      "outputs": []
    },
    {
      "cell_type": "code",
      "metadata": {
        "id": "3DXzCMJPbUSe"
      },
      "source": [
        "authorizer = OAuthHandler(consumer_api_key, consumer_api_secret)\n",
        "authorizer.set_access_token(access_token, access_token_secret)"
      ],
      "execution_count": null,
      "outputs": []
    },
    {
      "cell_type": "code",
      "metadata": {
        "id": "PCvHKeQsbfvp"
      },
      "source": [
        "api = tweepy.API(authorizer ,timeout=15)\n",
        "all_tweets = []\n",
        "SearchValue = \"\"\n",
        "\n",
        "tweet_incoming = api.search(q=\"@Covid_16_Bot\", count=1)\n",
        "\n",
        "final_query = tweet_incoming[0].text.replace(\"@Covid_16_Bot \",\"\").strip()\n",
        "\n",
        "if \"OR\" in final_query or \"or\" in final_query:\n",
        "  SearchValue = final_query.split(\" OR \")\n",
        "else:\n",
        "  SearchValue = [final_query]\n",
        "\n",
        "for ix in SearchValue:\n",
        "  for tweet_object in tweepy.Cursor(api.search,q=ix+\" -filter:retweets\",lang='en',result_type='recent').items(200):\n",
        "    all_tweets.append(tweet_object.text)"
      ],
      "execution_count": null,
      "outputs": []
    },
    {
      "cell_type": "code",
      "metadata": {
        "id": "ovmgZsegcr4Z",
        "outputId": "d3904f23-c95a-46e3-f914-942b3da68fc0",
        "colab": {
          "base_uri": "https://localhost:8080/",
          "height": 54
        }
      },
      "source": [
        "print(all_tweets)"
      ],
      "execution_count": null,
      "outputs": [
        {
          "output_type": "stream",
          "text": [
            "['@MsKegelVee Good morning baby girl hope you’re having a beautiful day', '@Eejayyyyyyyy @eyedine2 Good point.', '@NCTsmtown you did well today!! have a good rest too 💚', '@SAfridiOfficial \\n\\nGood evening 💕 https://t.co/xWdfrXqGW4', '@dazaisboo_ I havent watch it yet. Is it good?', 'Good thread on practicalities if the UK (or an independent Scotland) decides to rejoin the EU once the disaster of… https://t.co/0RFMNC4r0q', '@painterguy416 Good morning Russ', '#YRHPKFDDemandJustice\\n\\nGood show YRHPKrians, MisBirians. I am confident that we will succeed in bringing back our s… https://t.co/m2KpvXgFBc', 'Acha chlo ek duty toh krskte ho \\nRoz Subha oar night m Good morning pic and good night pic daloge insta Twitter m o… https://t.co/MNcB4AXaxZ', '@icarussunflower Good morning babe🦋\\U0001f90d', 'If you sign up and invest, we both get a free share. Had a couple so far and always been really good - last one was… https://t.co/RN3bKHFze3', 'Sex is good, but have you ever FUCKED the SYSTEM?\\n#EndSWAT #EndSARS #EndPoliceBrutalityinNigeria', 'I GOT MY SAT SCORES BACK i got a 1350 \\U0001f97a i hope that’s good enough to send to colleges lol cause this was my only chance due to corona', 'the day i finally get lasik and not have to be completely blind like velma without glasses will be a GOOD day', '@21stintheUSA @at_revenge @matthaig1 No! I listen to his music because it is good. His political views are abhorren… https://t.co/MGiSBzZ2J3', 'A true predator must not only have agility and strength, but a crafty wit to match.\\nNot only must we have sharp fan… https://t.co/FEdwc6w2P7', '@YonamineEri Good work Eri', 'how can someone look so good??? https://t.co/i7TN8ccpOv', '@DeannaHershber3 Voted. Good luck Simon☺☺❤🐾', \"@NudderingNudnik Who else thought that old people, disabled people, 'defective people', people from certain ethnic… https://t.co/1cIEqAHpEE\", '@NormalLife7 @cftrust @CFAware So exciting! All good here. Still not on full dose yet and haven’t seen an increase… https://t.co/R33x7d9LS2', 'Good morning everybody. 🤗 Daphne has reported for belly rub duty. \\U0001f970 https://t.co/0S8JI5Z09T', '@vbankng good afternoon, I’ve been trying to login to my v app but it’s just responding with an error message https://t.co/u7MJa2ILRd', '@jameswharton You too mate. Always good to have a natter x', \"@Purple__Burrito It will be fine don't worry! Good luck \\U0001f97a!\", \"Good thing we're seeing HS players opting to either play overseas (eg NBL) or the NBA G-League prior to them declar… https://t.co/8k6gETB70o\", 'Greens are good for you! Allerford Wood #Exmoor #thursdaymorning https://t.co/Nk6hztxotQ', 'congrats to myself, you did a good good job honey 🙏\\nI vote for #BLACKPINK\\xa0\\xa0\\xa0\\xa0 as #TheGroup for #PCAs 2020… https://t.co/2wlUa8YLYI', '@MesutOzil1088 @ChampionsLeague Tooooooo Good', '@reserved_icon Good for her 🙏🏽', '@spyderdobro Was Cocoa Krispies but recently discovered this non-grain, high protein cereal called Magic Spoon. Sur… https://t.co/OgOIoNmdGj', '1. you must be busy with stalking your exes. grins.\\n2. sometimes i shook how much gdm we are having, my house is pr… https://t.co/laKQwdMaOF', '@koolaid Righteous, my brick-breakin’ bro. You got pure indica going? I know a lot of companies start hybrid, it’s… https://t.co/Tt9ZOkKtDf', '@GamerVev @kailah_casillas The first SF was groundbreaking because of Pedro. \\n\\nAs for London, it was the first inte… https://t.co/Xjh0Ge3g7R', 'Don’t you guys hate it when you make a tweet and get a good 15 likes but then a bigger account makes the same tweet… https://t.co/90D6ATPZrR', '@vanguardngrnews We shall never rest\\nUntil our good is better\\nAnd our better best\\n#EndSarsNow', '@juliansheasport @ianbrown Ohhhhhh good one ..hats off.🙈', '@whore4prentiss Good luck', 'Today is a good day. 😊', \"@ljbama22 @JOXRoundtable Can't win with a QB throwing 6 picks \\nBuy fair point I still believe in leach.\\nGood thing… https://t.co/qThZEBPiHn\", '@joBurnett78 Good advice x', '@pensfannc5 @archer1111 @Minuteman223 @CPZ9098 @ethan1655 @Bearman1130 @minnguy152 @burnside4141 @GrtStJefferson… https://t.co/FyrJKU8h90', 'I’m good for that shit idc https://t.co/nAwPE39Vuz', 'Good morning ladies and gentlemen 😳😋🙌🏼🌻☀️ lets say you have a nice plate of plátanos in front of you right but you… https://t.co/Xs5PgWUKHT', \"@ElieNYC @AlexLawsonOFD Over half. Hope you had a good night's rest.\", \"@One_CF Oh no, that's not good. Let us know the full postcode of the affected area, with the make and model of your… https://t.co/XppcoKWyzF\", 'Grinding one way or another 7 days a week! The desire to be better everyday! Creating good habits now will help the… https://t.co/cfZyfoYh1J', \"i don't want to say JP player are bad because some JP player are really good \\nwhy i'm always have bad exp with selfish player lol\", \"I like y hope y doing good but how's the red dress girl — haha she's fine don't worry  https://t.co/WTlCwi9qOq\", 'Setting up for practice round of 1st ever Women’s Griffin Cup @GrandoverResort East Course! Good luck to all player… https://t.co/CPgRqDygnV', '@VikashSharmaIN Good news.', 'Lindsey Graham called segregation \"the good old days\" https://t.co/VUnXtooPng', '@NCTsmtown ILY BABY U DID SO GOOD https://t.co/JXpqefaLtK', 'Good morning! Episode 6 is live!!! Go give it a watch &lt;3 https://t.co/RUT1XxeWf7', 'The only thing I’m doing today is eat, retweet #EndSWAT and good vibes', '@kingcamaa nah im good 😭😭', '@EssTrojan Boys are good!!!!', '@LauraOReilly13x Good luck  :)', '@hddy832 @freyaoz I am so sorry to hear you are both back in lockdown. Hoping it ends soon for you, Freya. And good luck to you Barbara', '@Rajilaks1996 @yatchi1_ Good eve', 'I think the salary cap is a good thing overall and should be introduced higher up, but the limits on squad size are… https://t.co/WePupTIGBs', 'Today is a good day. And the rest of the year has the potential to be iconic.', '@TrickyDicky1954 Only had one bad meal over there - dodgy salmon last April - put me out of action for 24hrs sadly… https://t.co/NkRXR2k3KW', 'Saw my patnas yesterday, was a good night', 'BYE THE EDIT ISNT THAT GOOD BUT MY GOD IM TOO TIRED TO FIX IT 😩', '@juwiiyenn good luck bab\\U0001f97a❤️', 'Good to have me on the side, I ain’t sayin you need me.', '@CoryBooker @realDonaldTrump Let’s see does the good judge denounce white supremacy I  imagine have black children… https://t.co/vjcrMIYuZR', '@Blakey_Beans When you realize you’re not good at anything anymore 😂💀', '@AndrewBowie_MP Good to see that satire is well alive.', \"@TheDediKated *pats you on the head* very good. Here's a gold star.\", '@primevideosport @YannickBolasie \"2 good season and you get hella talk\" - said a man who has never had a good seaso… https://t.co/Eh1gnuGkj0', '@TimlessMaster “Good?” \\n\\nHe asked with a grin, as he wiped his mouth of syrup, watching the other as he ate.', '@ABK618 @jimmy_dore Anyone who’s had as much plastic surgery as she would look good at 80!! She was at the beauty s… https://t.co/kCrE0UpGoy', 'I feel bad for @Terroriser as of late. He genuinely seems like a good fella but he is the constant punching bag of… https://t.co/ZIUX20g7yW', \"@JakeTurx @MZHemingway @nypost Sorry what is incriminating for Joe Biden here? 'Interesting to my family'? Is that… https://t.co/jW2eiOnRjJ\", \"@vylliiam @chainbear Ferrari's engine also murders the Haas and Alpha Romero teams.\\nAnd Renault, while good, they need to keep working.\", '@illicitkv good luck with ur workout', 'FINAL CARD RESULTS:  SOCCER 34/11  ESPORTS 1/2\\nBADMIN 1/0  CF 0/1  INTL BASK 1/0  MLB 1/1  \\nINTL HOCK 1/0  TENNIS 6… https://t.co/1iZHSEXScy', '@daryl_mayor @unkle_rapon @OffiongAnthony @VytorAFC @ijekene78 @Ody_johnson @ObongRoviel @romeocza @Diamndsmith What good works?? 😏 😒', '@sherskg Haider hand eye coordination is good enough to play legside hoicks, he played those vs England and in PSL… https://t.co/vg4dnHEdih', '@Venom074 @StarzWisp @malcolm_sx @XeroX04992493 @Jwrath_onprod @ffspolo well i have given him a try and i do like s… https://t.co/um6sKDPgkN', '@70SCHRRY good, you’re not allowed too anyway', '@PKWanito @luvriego @CallierNathan good luck to your first day! and Godbless you💖\\n\\n@luckycutie_', '@NCTsmtown U DID SO GOOD TODAY LIKE THAT REVERSE???? LIVE???? ATE WITH NO CRUMBS LEFT PHEWWW', 'Everyone wished me good luck and I passed all three tests I took😏 https://t.co/WUJbUIovFs', '@BTS_080530_7 Good', '@Estefanie_Sweet @LettySimao Will make me fine/well\\nOr make me feel Good', '@BurkeThos @fancyfeet4 @derekwillis I believe the term is \"Good with the cyber.\"😁', '@jlist Good lord and wish I still had mine from back in the day', '🍺 One good beer leads to another. And another. And one more. @PolitehnicaT gives you 2️⃣0️⃣ when you purchase this… https://t.co/8vN7WWEcWt', '@holymxcann_ omg good luck', '@MonicaRicci @FitFounder Thank you very much. You have a good day! I’ve been reading your posts. Thanks for sharing info!', '@lareinedesloups @seananmcguire Good to know. Thanks!', 'Good morning Evo Fam 💜 ! Don’t forget to keep grinding #TheEvolutionRC', 'good afternoon, i hope you have a great day💭🖤 https://t.co/xHuxefGslz', 'o well, good morning everyone 🌞', '@TWICESJEONG good morning lee happy birthday👩\\u200d❤️\\u200d💋\\u200d👩\\U0001f932', '@gazzaB75 I was never hit with it, as I told I was good in their eyes. I saw my brother, friends and neighbours get… https://t.co/tJCtz1oyhd', \"kihyun's adlibs in shine forever remain one of my favorites in kpop it's just so good holy shit\", '@ravnnies good  luck  !!', '@GREENINLEATHER “I slept good... and you?”', 'Wass’ good? https://t.co/g16z0WCczd', '@NCTsmtown 💯% good', 'what are some good podcasts ya’ll are listening to? and please don’t say joe budden.. 😒', \"turns out i'm a good actor lol\", 'they say all good girls go to heaven but bad girls bring heaven to you !! https://t.co/P9kEnEZO7u', '@Apstannie Good night 😘', '@RogueShoeButler @kokorami @JLCauvin At root it is. Besides, the question was, what good is it ‘now’, not what hypo… https://t.co/CFJXPAVYer', '@KubiPls it tastes good but overpriced af', '@ndux_m Is the acting good kodwa?', '@NCTsmtown OMG YOU LOOK SO GOOD', 'US citizens love a good soap opera? And a grown man puts a sticker on his laptop? This whole story is unbelievable.… https://t.co/znIC94ah5e', '@avireg @MeenaKu31831011 @LalitaPawar1947 @BhayyiaGourave @bornfighterleo @justice4_sussh @RIMARAJ Hi Black Panther… https://t.co/T6U0fIgvAs', '@dujaaco Deji sounds like a good name, right @Torex_RL?', '@FTFonFS1 says @BMarshall who never made the fricking playoffs @getnickwright 🤣🤣🤣 settle down bro you weren’t that good dog', '@Doodledido @AshleyLeahy Either that or @GladysB had promised to ignore the people altogether and do exactly as she… https://t.co/nsM7tXjWqH', '@Taemu_K good luck with the event! &gt;&lt;', 'This protest need to get to a good turning point in d country... How can one be paid close to #30m per month and mi… https://t.co/EZvydrQZmt', \"@dustinrhodes @AEwrestling @AEWonTNT Dustin. It's so good to see you happy again\", 'Good morning beautiful ppl hope y’all have great day ...😎', '@maegutz Watch out for yourself today. Good luck', \"I'm soo hooked to this ost 🤧 her voice is sooo good 🤧\\nI love the drama too waah the plot is soo good 🤧 do give a tr… https://t.co/p0ClCCqkcm\", '@youfreakinnerd g... g... good morning https://t.co/7LW399HfWI', '@MissBeauty718 Good morning', '@davidboeff @wilburpan @galooticus @FlairWoodworks @AndyWoodturner @RenaissanceWW It’s a balance - Too busy to post… https://t.co/1nQN1EPpzI', '@katsubit GM ZOEEE IM GOOD HBU BAE ♡ ♡', '@kaletherabbit Human says she thought Finland would be good at spooky traditions for some reason 😸', '@KathleenOdell12 @JRubinBlogger Well actually, a good fit for the court Repubs are pushing.', 'and its 7 AM, good job me, fucked up again', 'Living with me is living most not feel good u r gonna have to endure hours of me talking passionately about things… https://t.co/vBlxEzZVS9', 'Having true friends is better than fine gold. Gold can disappear overnight but true friends will always be by your… https://t.co/b5Ww2fSoeW', '@_NotPM Needed a good chuckle, job done 👍🏻', 'ummm okay good morning to timothée chalamet \\U0001f975 https://t.co/ZenJTFoxYW', 'Good, it’s better to be on our own than beg for support from ignorant agbayas https://t.co/B1mWLMks56', 'That boy good https://t.co/Nz6dH8TC0l', 'Good morning sweeties 🍬! First day with new meds, hopefully I will feel better thanks to them!  What does your day… https://t.co/f2JCid0sg5', 'Does anybody know any good songs? If yes which? I wanna play them\\U0001f92d', '@PellisTaintus @0x49fa98 In the mouth of madness was good.\\n\\nIf you’re into gaming, try The Darkest Dungeon. It’s al… https://t.co/BOOknSGxyt', '@MarinaBannatyne There’s his wee pal for good measure 😂 https://t.co/0yIc9HRrZf', \"It's also become somewhat telling that they dont even think a person would do the right thing for any good faith re… https://t.co/oM92vSuY4Q\", '@WVLady1121 Good Morning Diane!', '@bustytgp Good smile and great big boobs! You have it all!', '@_raychul Oh that’s a good point! Thank you!', '@seanspicer @kayleighmcenany @nypost @Twitter @WashTimes That’s what you get for spreading lies. But she is not an… https://t.co/DbZk13EDYF', '@DuchessT_ Good morning my people I think we should change our protest from end SARS/SWAT to bring economy down bag… https://t.co/KEVYuRizf4', '@NegarestaniReza not very demanding but a good work https://t.co/FrI2Pl20fP', '#LocoBlueroomLIVE When I was in the army, I got a lot of inspirations in different ways. As, he has to do a lot of… https://t.co/0P1xlXrJRA', 'Good morning ☀️ https://t.co/lrjdueabQr', 'I feel good, really. I can finally say, I am in a good space.💕', '@notdojjakitty It’s hard! Lol! I’ve lost a couple good ones but start looking at a couple places and where you coul… https://t.co/CWJbSlYix1', '@sixringsofsteeI Might be a long shot but Aaron Naismith I think has a lot of potential to be an all nba caliber pl… https://t.co/AwJeTFIi7U', 'good morning https://t.co/WFIEKSrgAK', '@NCTsmtown YOU LOOK SO GOOD', 'Nothing brings white folx more joy than doing something “good” for marginalized folx and then getting on Twitter to write a thread about it.', '@sergeivote @RitaMacMom @vegix @crzyfkinworld @uflo5 @michelle_spenc @4a_of @RENEEWEATHERS2 @BrendaBalazs @Texy_Liz… https://t.co/nc2nuUcqEk', \"@PaynesForever I'm good. Thanks for asking :)\", '@BulllSsHhit good morninnng\\U0001f97a', '@ThePubliusUSA @resistchar1990 Good...Fire him anyway...1 less swamp creature to deal with...', 'I’ve seen a lot of people saying Pogba is clear on top form. \\n\\nDe Bruyne last season:\\n\\n- 38 G/A in 3,811 minutes.\\n-… https://t.co/GoMVaM9MyR', '@Lo_Butta @artemisiaII1111 @r33c3d @ritososuave can you point out in my response where i said men can do that? i do… https://t.co/3YYUwvtdAY', '@SeanRossSapp Because that was a terrible (and likely very cheap) knock off. (The name plates on the side being one… https://t.co/okV7WZ8GK1', 'Good morning! New vid is up on the channel! I upgraded my edit bay with some awesome new monitor arms from… https://t.co/uaTMtnMd9o', \"@LoveBen12785461 @CandiidOnline My dear, we don't do that here\\n\\nThat girl deserves everything in the name of Good she can get.\", '@NCTsmtown Good job today \\U0001f97a💚', '@funsayori Hi Sayo, good morning to you too. It already 15:06 for me and my day was pretty much nice one on all fro… https://t.co/14wJ9N8dqx', '@alok24 Good work', '@jbujor98 @Purps_Lack @appydaze70 @SkySportsPL @LFC nice bruh we aint here for hate good move.', '@Prof_KBowman @msulibraries @eawebster @heidischroeder @MSULawLib @jmeland124 @martin_deborah @UQ_Library Well, thi… https://t.co/gKbhuvZ4BL', \"It's going to be a great contest between @RCBTweets and @lionsdenkxip . All the best and good luck to both the skip… https://t.co/WN78nGlHop\", '@urbabywaifu Those are good films 👌', '@NikkiHaley @LindseyGrahamSC Millions are coming in to protect SC from \"going back to the good ole days of segregation\"', \"I never see anything as good or bad; it's more light or dark, and the in-between is the grey. -Michael Eklund\", '@MJMcKean Good album but I think the cover art peaked at Intravenus de Milo.', '@salvella @J__Donner Easily policed if you ask for id at the door.\\n\\nMost of these gyms have electronic cards to swi… https://t.co/D3dgertL9x', 'good morning https://t.co/96SZkFP37U', '@w_terrence That give the Joker a bad name \\nKarmala makes him look good', '@MartyPrice777 You, brother mine, are just too nice for your own good. Have the impression all meditating Hobbits are\\U0001f9d8🏻\\u200d♂️', '@4ktSBT good', '@Chloepoop I get a free gun as well as the free artwork? Today must be a good day', 'good morning bronzers ✨\\U0001f929🔆💛', 'ALWAYS keep a good $50 piece in your account, you never know what auto draft will come in to steal, kill, and destroy!!!!🤦🏾\\u200d♂️😏', '@montse131958 @macapumu4384 I do ! And you’re right, don’t pretended to be some one you’re not ! Good day 🙏🏻🦋🌸☕️', '@acereyyy good evening ace hahaha', 'good morning ♥♥♥ https://t.co/nyDQbIFzaA', \"@nkostelic I haven't. Me and my fiancé have just been going at my hair with electric clippers when it gets too long… https://t.co/6WD48TtUJ4\", '@JuliansRum We will know soon if it’s all bullshit or not. However I’ve never had a good feeling about Operator Rob… https://t.co/b5GnDUSWXi', '@Classic105Kenya @MikeMondo1 @terrymuikamba Good Afternoon welcome to a tbt #MikeAndTerry', 'Good morning just woke up from a long ass depression nap', '@copperranks Wow.. This is good', '@lugga333 Good luck and german sucks', \"@caraellison @kierongillen I think he's winning currently, yeah. He had it with the initial solo stuff, then he bec… https://t.co/dvWXVj9GE9\", 'I see now\\nThey all just saw me as a last resort\\nIf none of the others are available \\nI was what they turned to\\nFor… https://t.co/FjAPA8j9vs', '@RealOmarNavarro Still on my good list!', '@SavageBoston Can’t believe it’s been 7 years I remember I had school the next day and was tired af 😂 the good o days', 'But rejoice in good times  and remember that life is ONLY what you make it. If you can have a good attitude about t… https://t.co/F9rgZohxyv', 'Good morning chicken nuggets party on discord with the community, bring ur nuggets at 11 am est, join my discord https://t.co/7etloVuKQU', \"keep saying they eat each other or saying that each other tastes good, there's more but thats the first thing that… https://t.co/hjP0KUJlvF\", '@atrupar Good ol Jim Jones...', '@ItsAvery Exactly and he wants to add another baby into the mix!? Lowkey sounds like she’s unsatisfied when they ha… https://t.co/fm4Oc4Cl0q']\n"
          ],
          "name": "stdout"
        }
      ]
    },
    {
      "cell_type": "code",
      "metadata": {
        "id": "03M6gOZzc7rb",
        "outputId": "ea4e4701-8442-42b4-a21c-784af8c4606c",
        "colab": {
          "base_uri": "https://localhost:8080/",
          "height": 52
        }
      },
      "source": [
        "import numpy as np \n",
        "import pandas as pd \n",
        "import re  \n",
        "import nltk # an amazing library to play with natural language\n",
        "nltk.download('stopwords')  \n",
        "from nltk.corpus import stopwords \n"
      ],
      "execution_count": null,
      "outputs": [
        {
          "output_type": "stream",
          "text": [
            "[nltk_data] Downloading package stopwords to /root/nltk_data...\n",
            "[nltk_data]   Package stopwords is already up-to-date!\n"
          ],
          "name": "stdout"
        }
      ]
    },
    {
      "cell_type": "code",
      "metadata": {
        "id": "LIIrJYhVdD9y",
        "outputId": "ef0c5341-e100-4acf-c66a-5d2ae97c6ba3",
        "colab": {
          "base_uri": "https://localhost:8080/",
          "height": 265
        }
      },
      "source": [
        "tweets = pd.read_csv(\"https://raw.githubusercontent.com/kolaveridi/kaggle-Twitter-US-Airline-Sentiment-/master/Tweets.csv\")\n",
        "print(tweets)"
      ],
      "execution_count": null,
      "outputs": [
        {
          "output_type": "stream",
          "text": [
            "                 tweet_id  ...               user_timezone\n",
            "0      570306133677760513  ...  Eastern Time (US & Canada)\n",
            "1      570301130888122368  ...  Pacific Time (US & Canada)\n",
            "2      570301083672813571  ...  Central Time (US & Canada)\n",
            "3      570301031407624196  ...  Pacific Time (US & Canada)\n",
            "4      570300817074462722  ...  Pacific Time (US & Canada)\n",
            "...                   ...  ...                         ...\n",
            "14635  569587686496825344  ...                         NaN\n",
            "14636  569587371693355008  ...                         NaN\n",
            "14637  569587242672398336  ...                         NaN\n",
            "14638  569587188687634433  ...  Eastern Time (US & Canada)\n",
            "14639  569587140490866689  ...                         NaN\n",
            "\n",
            "[14640 rows x 15 columns]\n"
          ],
          "name": "stdout"
        }
      ]
    },
    {
      "cell_type": "code",
      "metadata": {
        "id": "yUFttnmRdTol",
        "outputId": "be2eac15-2d52-48d7-f1e1-a48f68c1a3a3",
        "colab": {
          "base_uri": "https://localhost:8080/",
          "height": 123
        }
      },
      "source": [
        "X = tweets.iloc[:, 10].values  \n",
        "y = tweets.iloc[:, 1].values\n",
        "\n",
        "print(X)"
      ],
      "execution_count": null,
      "outputs": [
        {
          "output_type": "stream",
          "text": [
            "['@VirginAmerica What @dhepburn said.'\n",
            " \"@VirginAmerica plus you've added commercials to the experience... tacky.\"\n",
            " \"@VirginAmerica I didn't today... Must mean I need to take another trip!\"\n",
            " ... '@AmericanAir Please bring American Airlines to #BlackBerry10'\n",
            " \"@AmericanAir you have my money, you change my flight, and don't answer your phones! Any other suggestions so I can make my commitment??\"\n",
            " '@AmericanAir we have 8 ppl so we need 2 know how many seats are on the next flight. Plz put us on standby for 4 people on the next flight?']\n"
          ],
          "name": "stdout"
        }
      ]
    },
    {
      "cell_type": "code",
      "metadata": {
        "id": "wCbe6x3cqOAR"
      },
      "source": [
        "processed_tweets = []\n",
        " \n",
        "for tweet in range(0, len(X)):  \n",
        "    # Remove all the special characters\n",
        "    processed_tweet = re.sub(r'\\W', ' ', str(X[tweet]))\n",
        " \n",
        "    # remove all single characters\n",
        "    processed_tweet = re.sub(r'\\s+[a-zA-Z]\\s+', ' ', processed_tweet)\n",
        " \n",
        "    # Remove single characters from the start\n",
        "    processed_tweet = re.sub(r'\\^[a-zA-Z]\\s+', ' ', processed_tweet) \n",
        " \n",
        "    # Substituting multiple spaces with single space\n",
        "    processed_tweet= re.sub(r'\\s+', ' ', processed_tweet, flags=re.I)\n",
        " \n",
        "    # Removing prefixed 'b'\n",
        "    processed_tweet = re.sub(r'^b\\s+', '', processed_tweet)\n",
        " \n",
        "    # Converting to Lowercase\n",
        "    processed_tweet = processed_tweet.lower()\n",
        " \n",
        "    processed_tweets.append(processed_tweet)"
      ],
      "execution_count": null,
      "outputs": []
    },
    {
      "cell_type": "code",
      "metadata": {
        "id": "fvvzPXC7daw9"
      },
      "source": [
        "from sklearn.feature_extraction.text import TfidfVectorizer  \n",
        "tfidfconverter = TfidfVectorizer(max_features=2000, min_df=5, max_df=0.7, stop_words=stopwords.words('english'))  \n",
        "X = tfidfconverter.fit_transform(processed_tweets).toarray()\n"
      ],
      "execution_count": null,
      "outputs": []
    },
    {
      "cell_type": "code",
      "metadata": {
        "id": "_yReZpg4dftB",
        "outputId": "925a46ed-fb96-481c-b0b1-b8420dd8b7e1",
        "colab": {
          "base_uri": "https://localhost:8080/",
          "height": 158
        }
      },
      "source": [
        "from sklearn.ensemble import RandomForestClassifier\n",
        "text_classifier = RandomForestClassifier(n_estimators=100, random_state=0)  \n",
        "text_classifier.fit(X, y)"
      ],
      "execution_count": null,
      "outputs": [
        {
          "output_type": "execute_result",
          "data": {
            "text/plain": [
              "RandomForestClassifier(bootstrap=True, ccp_alpha=0.0, class_weight=None,\n",
              "                       criterion='gini', max_depth=None, max_features='auto',\n",
              "                       max_leaf_nodes=None, max_samples=None,\n",
              "                       min_impurity_decrease=0.0, min_impurity_split=None,\n",
              "                       min_samples_leaf=1, min_samples_split=2,\n",
              "                       min_weight_fraction_leaf=0.0, n_estimators=100,\n",
              "                       n_jobs=None, oob_score=False, random_state=0, verbose=0,\n",
              "                       warm_start=False)"
            ]
          },
          "metadata": {
            "tags": []
          },
          "execution_count": 24
        }
      ]
    },
    {
      "cell_type": "code",
      "metadata": {
        "id": "PiH3lhymdsYI",
        "outputId": "cb197268-97c4-4891-e22d-1789ce0629ef",
        "colab": {
          "base_uri": "https://localhost:8080/",
          "height": 1000
        }
      },
      "source": [
        "PositiveCount = 0\n",
        "NeutralCount = 0\n",
        "NegativeCount = 0\n",
        "\n",
        "for tweet in all_tweets:\n",
        "    # Remove all the special characters\n",
        "    processed_tweet = re.sub(r'\\W', ' ', tweet)\n",
        " \n",
        "    # remove all single characters\n",
        "    processed_tweet = re.sub(r'\\s+[a-zA-Z]\\s+', ' ', processed_tweet)\n",
        " \n",
        "    # Remove single characters from the start\n",
        "    processed_tweet = re.sub(r'\\^[a-zA-Z]\\s+', ' ', processed_tweet) \n",
        " \n",
        "    # Substituting multiple spaces with single space\n",
        "    processed_tweet= re.sub(r'\\s+', ' ', processed_tweet, flags=re.I)\n",
        " \n",
        "    # Removing prefixed 'b'\n",
        "    processed_tweet = re.sub(r'^b\\s+', '', processed_tweet)\n",
        " \n",
        "    # Converting to Lowercase\n",
        "    processed_tweet = processed_tweet.lower()\n",
        " \n",
        "    sentiment = text_classifier.predict(tfidfconverter.transform([ processed_tweet]).toarray())\n",
        "    print(processed_tweet ,\":\", sentiment)\n",
        "\n",
        "\n",
        "    if \"neutral\" in sentiment:\n",
        "      NeutralCount += 1\n",
        "    elif \"negative\" in sentiment:\n",
        "      NegativeCount += 1\n",
        "    else:\n",
        "      PositiveCount += 1\n",
        "\n",
        "PosPer = PositiveCount/len(all_tweets)*100\n",
        "NegPer = NegativeCount/len(all_tweets)*100\n",
        "NeuPer = NeutralCount/len(all_tweets)*100\n",
        "\n",
        "#prints out the sentiment analysis of the tweets\n",
        "print(\"Negative Count:\", NegativeCount, \"- {:.2f}%\".format(NegPer))\n",
        "print(\"Neutral Count:\", NeutralCount, \"- {:.2f}%\".format(NeuPer))\n",
        "print(\"Positive Count: \", PositiveCount, \"- {:.2f}%\".format(PosPer))\n",
        "\n",
        "\n",
        "labels = \"Negative\", \"Positive\", \"Neutral\"\n",
        "sections = [NegPer, PosPer, NeuPer]\n",
        "colors = [\"r\", \"g\", \"y\"]\n",
        "\n",
        "plt.pie(sections, labels=labels, colors=colors,\n",
        "        startangle=90,\n",
        "        explode = (0, 0.1, 0),\n",
        "        autopct = \"%1.2f%%\")\n",
        "\n",
        "#creates the pi chart\n",
        "plt.title(\"Type of Tweets\")\n",
        "plt.savefig(\"graph.png\")\n",
        "plt.show()\n",
        "\n",
        "#finds the exact date and time for the tweet\n",
        "fmt = \"%Y-%m-%d %H:%M:%S %Z%z\"\n",
        "now_utc = datetime.now(timezone('UTC'))\n",
        "\n",
        "now_uk = now_utc.astimezone(timezone('Europe/London'))\n",
        "print(now_uk.strftime(fmt))\n",
        "\n",
        "#creates the text to be shown in our tweet\n",
        "ourtweet =  'Search: \"' + final_query + '\"  @ ' + now_uk.strftime(fmt) + '\\n' + \\\n",
        "            'Positive Count: {} - {:.2f}%\\n'.format(PositiveCount, PosPer) + \\\n",
        "            'Negative Count: {} - {:.2f}%\\n'.format(NegativeCount, NegPer) + \\\n",
        "            'Neutral Count: {} - {:.2f}%\\n\\n#UoE2020LovecaceChallengeWeek'.format(NeutralCount, NeuPer)\n",
        "\n",
        "\n",
        "#Replies to incoming tweet\n",
        "for s in tweet_incoming:\n",
        "  sn = s.user.screen_name\n",
        "  m = \"@{}\\n{}\".format(sn, ourtweet)\n",
        "  api.update_with_media(\"graph.png\", m, s.id)"
      ],
      "execution_count": null,
      "outputs": [
        {
          "output_type": "stream",
          "text": [
            " mskegelvee good morning baby girl hope you re having beautiful day : ['negative']\n",
            " eejayyyyyyyy eyedine2 good point  : ['negative']\n",
            " nctsmtown you did well today have good rest too  : ['negative']\n",
            " safridiofficial good evening https co xwdfrxqgw4 : ['positive']\n",
            " dazaisboo_ havent watch it yet is it good  : ['negative']\n",
            "good thread on practicalities if the uk or an independent scotland decides to rejoin the eu once the disaster of https co 0rfmnc4r0q : ['neutral']\n",
            " painterguy416 good morning russ : ['neutral']\n",
            " yrhpkfddemandjustice good show yrhpkrians misbirians am confident that we will succeed in bringing back our https co m2kpvxgfbc : ['neutral']\n",
            "acha chlo ek duty toh krskte ho roz subha oar night good morning pic and good night pic daloge insta twitter o https co mncb4axaxz : ['neutral']\n",
            " icarussunflower good morning babe  : ['neutral']\n",
            "if you sign up and invest we both get free share had couple so far and always been really good last one was https co rn3bkhfze3 : ['negative']\n",
            "sex is good but have you ever fucked the system endswat endsars endpolicebrutalityinnigeria : ['negative']\n",
            "i got my sat scores back got 1350 hope that good enough to send to colleges lol cause this was my only chance due to corona : ['negative']\n",
            "the day finally get lasik and not have to be completely blind like velma without glasses will be good day : ['negative']\n",
            " 21stintheusa at_revenge matthaig1 no listen to his music because it is good his political views are abhorren https co mgisbzz2j3 : ['neutral']\n",
            "a true predator must not only have agility and strength but crafty wit to match not only must we have sharp fan https co fedwc6w2p7 : ['negative']\n",
            " yonamineeri good work eri : ['positive']\n",
            "how can someone look so good https co i7tn8ccpov : ['neutral']\n",
            " deannahershber3 voted good luck simon  : ['negative']\n",
            " nudderingnudnik who else thought that old people disabled people defective people people from certain ethnic https co 1cieqahpee : ['negative']\n",
            " normallife7 cftrust cfaware so exciting all good here still not on full dose yet and haven seen an increase https co r33x7d9ls2 : ['negative']\n",
            "good morning everybody daphne has reported for belly rub duty https co 0s8ji5z09t : ['neutral']\n",
            " vbankng good afternoon ve been trying to login to my app but it just responding with an error message https co u7mja2ilrd : ['negative']\n",
            " jameswharton you too mate always good to have natter x : ['positive']\n",
            " purple__burrito it will be fine don worry good luck  : ['negative']\n",
            "good thing we re seeing hs players opting to either play overseas eg nbl or the nba league prior to them declar https co 8k6getb70o : ['negative']\n",
            "greens are good for you allerford wood exmoor thursdaymorning https co nk6hztxotq : ['neutral']\n",
            "congrats to myself you did good good job honey vote for blackpink as thegroup for pcas 2020 https co 2wlua8ylyi : ['neutral']\n",
            " mesutozil1088 championsleague tooooooo good : ['negative']\n",
            " reserved_icon good for her  : ['negative']\n",
            " spyderdobro was cocoa krispies but recently discovered this non grain high protein cereal called magic spoon sur https co ogoionmdgj : ['neutral']\n",
            "1 you must be busy with stalking your exes grins 2 sometimes shook how much gdm we are having my house is pr https co lakqwdmaof : ['neutral']\n",
            " koolaid righteous my brick breakin bro you got pure indica going know lot of companies start hybrid it https co tt9zokktdf : ['neutral']\n",
            " gamervev kailah_casillas the first sf was groundbreaking because of pedro as for london it was the first inte https co xjh0ge3g7r : ['neutral']\n",
            "don you guys hate it when you make tweet and get good 15 likes but then bigger account makes the same tweet https co 90d6atpzrr : ['negative']\n",
            " vanguardngrnews we shall never rest until our good is better and our better best endsarsnow : ['negative']\n",
            " juliansheasport ianbrown ohhhhhh good one hats off  : ['negative']\n",
            " whore4prentiss good luck : ['negative']\n",
            "today is good day  : ['neutral']\n",
            " ljbama22 joxroundtable can win with qb throwing 6 picks buy fair point still believe in leach good thing https co qthzebpihn : ['negative']\n",
            " joburnett78 good advice x : ['neutral']\n",
            " pensfannc5 archer1111 minuteman223 cpz9098 ethan1655 bearman1130 minnguy152 burnside4141 grtstjefferson https co fyrjku8h90 : ['neutral']\n",
            "i good for that shit idc https co nawpe39vuz : ['neutral']\n",
            "good morning ladies and gentlemen lets say you have nice plate of plátanos in front of you right but you https co xs5pgwukht : ['negative']\n",
            " elienyc alexlawsonofd over half hope you had good night rest  : ['negative']\n",
            " one_cf oh no that not good let us know the full postcode of the affected area with the make and model of your https co xppcokwyzf : ['negative']\n",
            "grinding one way or another 7 days week the desire to be better everyday creating good habits now will help the https co cfzyfoyh1j : ['negative']\n",
            "i don want to say jp player are bad because some jp player are really good why m always have bad exp with selfish player lol : ['negative']\n",
            "i like hope doing good but how the red dress girl haha she fine don worry https co wtlcwi9qoq : ['negative']\n",
            "setting up for practice round of 1st ever women griffin cup grandoverresort east course good luck to all player https co cpgrqdygnv : ['negative']\n",
            " vikashsharmain good news  : ['negative']\n",
            "lindsey graham called segregation the good old days https co vunxtoopng : ['negative']\n",
            " nctsmtown ily baby did so good https co jxpqefaltk : ['neutral']\n",
            "good morning episode 6 is live go give it watch lt 3 https co rut1xxewf7 : ['neutral']\n",
            "the only thing m doing today is eat retweet endswat and good vibes : ['negative']\n",
            " kingcamaa nah im good  : ['negative']\n",
            " esstrojan boys are good  : ['negative']\n",
            " lauraoreilly13x good luck  : ['negative']\n",
            " hddy832 freyaoz am so sorry to hear you are both back in lockdown hoping it ends soon for you freya and good luck to you barbara : ['negative']\n",
            " rajilaks1996 yatchi1_ good eve : ['negative']\n",
            "i think the salary cap is good thing overall and should be introduced higher up but the limits on squad size are https co wepuptigbs : ['neutral']\n",
            "today is good day and the rest of the year has the potential to be iconic  : ['negative']\n",
            " trickydicky1954 only had one bad meal over there dodgy salmon last april put me out of action for 24hrs sadly https co nkrxr2k3kw : ['negative']\n",
            "saw my patnas yesterday was good night : ['neutral']\n",
            "bye the edit isnt that good but my god im too tired to fix it  : ['negative']\n",
            " juwiiyenn good luck bab  : ['negative']\n",
            "good to have me on the side ain sayin you need me  : ['neutral']\n",
            " corybooker realdonaldtrump let see does the good judge denounce white supremacy imagine have black children https co vjcrmiyuzr : ['neutral']\n",
            " blakey_beans when you realize you re not good at anything anymore  : ['negative']\n",
            " andrewbowie_mp good to see that satire is well alive  : ['positive']\n",
            " thededikated pats you on the head very good here a gold star  : ['negative']\n",
            " primevideosport yannickbolasie 2 good season and you get hella talk said man who has never had good seaso https co eh1gnugkj0 : ['negative']\n",
            " timlessmaster good he asked with grin as he wiped his mouth of syrup watching the other as he ate  : ['negative']\n",
            " abk618 jimmy_dore anyone who had as much plastic surgery as she would look good at 80 she was at the beauty https co kcre0upgoy : ['negative']\n",
            "i feel bad for terroriser as of late he genuinely seems like good fella but he is the constant punching bag of https co ziux20g7yw : ['negative']\n",
            " jaketurx mzhemingway nypost sorry what is incriminating for joe biden here interesting to my family is that https co jw2eionrjj : ['neutral']\n",
            " vylliiam chainbear ferrari engine also murders the haas and alpha romero teams and renault while good they need to keep working  : ['negative']\n",
            " illicitkv good luck with ur workout : ['negative']\n",
            "final card results soccer 34 11 esports 1 2 badmin 1 0 cf 0 1 intl bask 1 0 mlb 1 1 intl hock 1 0 tennis 6 https co 1izhsexscy : ['negative']\n",
            " daryl_mayor unkle_rapon offionganthony vytorafc ijekene78 ody_johnson obongroviel romeocza diamndsmith what good works  : ['neutral']\n",
            " sherskg haider hand eye coordination is good enough to play legside hoicks he played those vs england and in psl https co vg4dnhedih : ['neutral']\n",
            " venom074 starzwisp malcolm_sx xerox04992493 jwrath_onprod ffspolo well have given him try and do like https co um6skdpgkn : ['neutral']\n",
            " 70schrry good you re not allowed too anyway : ['negative']\n",
            " pkwanito luvriego calliernathan good luck to your first day and godbless you luckycutie_ : ['negative']\n",
            " nctsmtown did so good today like that reverse live ate with no crumbs left phewww : ['negative']\n",
            "everyone wished me good luck and passed all three tests took https co wujbuiovfs : ['negative']\n",
            " bts_080530_7 good : ['negative']\n",
            " estefanie_sweet lettysimao will make me fine well or make me feel good : ['negative']\n",
            " burkethos fancyfeet4 derekwillis believe the term is good with the cyber  : ['negative']\n",
            " jlist good lord and wish still had mine from back in the day : ['negative']\n",
            " one good beer leads to another and another and one more politehnicat gives you 2 0 when you purchase this https co 8vn7wwecwt : ['negative']\n",
            " holymxcann_ omg good luck : ['neutral']\n",
            " monicaricci fitfounder thank you very much you have good day ve been reading your posts thanks for sharing info  : ['positive']\n",
            " lareinedesloups seananmcguire good to know thanks  : ['positive']\n",
            "good morning evo fam don forget to keep grinding theevolutionrc : ['positive']\n",
            "good afternoon hope you have great day https co xhuxefgslz : ['positive']\n",
            "o well good morning everyone  : ['positive']\n",
            " twicesjeong good morning lee happy birthday  : ['positive']\n",
            " gazzab75 was never hit with it as told was good in their eyes saw my brother friends and neighbours get https co tjctz1oyhd : ['negative']\n",
            "kihyun adlibs in shine forever remain one of my favorites in kpop it just so good holy shit : ['negative']\n",
            " ravnnies good luck  : ['negative']\n",
            " greeninleather slept good and you  : ['negative']\n",
            "wass good https co g16z0wcczd : ['neutral']\n",
            " nctsmtown good : ['negative']\n",
            "what are some good podcasts ya ll are listening to and please don say joe budden  : ['negative']\n",
            "turns out m good actor lol : ['neutral']\n",
            "they say all good girls go to heaven but bad girls bring heaven to you https co p9kenezo7u : ['neutral']\n",
            " apstannie good night  : ['neutral']\n",
            " rogueshoebutler kokorami jlcauvin at root it is besides the question was what good is it now not what hypo https co cfjxpavyer : ['neutral']\n",
            " kubipls it tastes good but overpriced af : ['negative']\n",
            " ndux_m is the acting good kodwa  : ['negative']\n",
            " nctsmtown omg you look so good : ['neutral']\n",
            "us citizens love good soap opera and grown man puts sticker on his laptop this whole story is unbelievable https co znic94ah5e : ['positive']\n",
            " avireg meenaku31831011 lalitapawar1947 bhayyiagourave bornfighterleo justice4_sussh rimaraj hi black panther https co t6u0figvas : ['neutral']\n",
            " dujaaco deji sounds like good name right torex_rl  : ['negative']\n",
            " ftfonfs1 says bmarshall who never made the fricking playoffs getnickwright settle down bro you weren that good dog : ['negative']\n",
            " doodledido ashleyleahy either that or gladysb had promised to ignore the people altogether and do exactly as she https co nsm7txjwqh : ['negative']\n",
            " taemu_k good luck with the event gt lt  : ['neutral']\n",
            "this protest need to get to good turning point in country how can one be paid close to 30m per month and mi https co ezvydrqzmt : ['negative']\n",
            " dustinrhodes aewrestling aewontnt dustin it so good to see you happy again : ['positive']\n",
            "good morning beautiful ppl hope all have great day  : ['positive']\n",
            " maegutz watch out for yourself today good luck : ['negative']\n",
            "i soo hooked to this ost her voice is sooo good love the drama too waah the plot is soo good do give tr https co p0clccqkcm : ['positive']\n",
            " youfreakinnerd g good morning https co 7lw399hfwi : ['neutral']\n",
            " missbeauty718 good morning : ['neutral']\n",
            " davidboeff wilburpan galooticus flairwoodworks andywoodturner renaissanceww it a balance too busy to post https co 1nqn1eppzi : ['neutral']\n",
            " katsubit gm zoeee im good hbu bae  : ['negative']\n",
            " kaletherabbit human says she thought finland would be good at spooky traditions for some reason  : ['negative']\n",
            " kathleenodell12 jrubinblogger well actually good fit for the court repubs are pushing  : ['positive']\n",
            "and its 7 am good job me fucked up again : ['negative']\n",
            "living with me is living most not feel good r gonna have to endure hours of me talking passionately about things https co vblxezzvs9 : ['negative']\n",
            "having true friends is better than fine gold gold can disappear overnight but true friends will always be by your https co b5ww2fsoew : ['negative']\n",
            " _notpm needed good chuckle job done  : ['negative']\n",
            "ummm okay good morning to timothée chalamet https co zenjtfoxyw : ['positive']\n",
            "good it better to be on our own than beg for support from ignorant agbayas https co b1mwlmks56 : ['positive']\n",
            "that boy good https co nz6dh8tc0l : ['neutral']\n",
            "good morning sweeties first day with new meds hopefully will feel better thanks to them what does your day https co f2jcid0sg5 : ['positive']\n",
            "does anybody know any good songs if yes which wanna play them  : ['negative']\n",
            " pellistaintus 0x49fa98 in the mouth of madness was good if you re into gaming try the darkest dungeon it al https co booknsgxyt : ['neutral']\n",
            " marinabannatyne there his wee pal for good measure https co 0yic9hrrzf : ['neutral']\n",
            "it also become somewhat telling that they dont even think person would do the right thing for any good faith re https co om92vsuy4q : ['negative']\n",
            " wvlady1121 good morning diane  : ['neutral']\n",
            " bustytgp good smile and great big boobs you have it all  : ['positive']\n",
            " _raychul oh that a good point thank you  : ['positive']\n",
            " seanspicer kayleighmcenany nypost twitter washtimes that what you get for spreading lies but she is not an https co dbzk13edyf : ['neutral']\n",
            " duchesst_ good morning my people think we should change our protest from end sars swat to bring economy down bag https co kevyurizf4 : ['negative']\n",
            " negarestanireza not very demanding but good work https co fri2pl20fp : ['neutral']\n",
            " locoblueroomlive when was in the army got lot of inspirations in different ways as he has to do lot of https co 0p1xlxrjra : ['negative']\n",
            "good morning https co lrjdueabqr : ['neutral']\n",
            "i feel good really can finally say am in good space  : ['negative']\n",
            " notdojjakitty it hard lol ve lost couple good ones but start looking at couple places and where you coul https co cwjbslyix1 : ['negative']\n",
            " sixringsofsteei might be long shot but aaron naismith think has lot of potential to be an all nba caliber pl https co awjetfii7u : ['neutral']\n",
            "good morning https co wfieksrgak : ['neutral']\n",
            " nctsmtown you look so good : ['negative']\n",
            "nothing brings white folx more joy than doing something good for marginalized folx and then getting on twitter to write thread about it  : ['negative']\n",
            " sergeivote ritamacmom vegix crzyfkinworld uflo5 michelle_spenc 4a_of reneeweathers2 brendabalazs texy_liz https co nc2nuucqek : ['neutral']\n",
            " paynesforever m good thanks for asking  : ['positive']\n",
            " bulllsshhit good morninnng  : ['negative']\n",
            " thepubliususa resistchar1990 good fire him anyway 1 less swamp creature to deal with  : ['negative']\n",
            "i ve seen lot of people saying pogba is clear on top form de bruyne last season 38 a in 3 811 minutes https co gomvam9myr : ['negative']\n",
            " lo_butta artemisiaii1111 r33c3d ritososuave can you point out in my response where said men can do that do https co 3yyuwvtday : ['neutral']\n",
            " seanrosssapp because that was terrible and likely very cheap knock off the name plates on the side being one https co okv7wz8gk1 : ['negative']\n",
            "good morning new vid is up on the channel upgraded my edit bay with some awesome new monitor arms from https co uatmtnmd9o : ['positive']\n",
            " loveben12785461 candiidonline my dear we don do that here that girl deserves everything in the name of good she can get  : ['negative']\n",
            " nctsmtown good job today  : ['negative']\n",
            " funsayori hi sayo good morning to you too it already 15 06 for me and my day was pretty much nice one on all fro https co 14wj9n8dqx : ['neutral']\n",
            " alok24 good work : ['positive']\n",
            " jbujor98 purps_lack appydaze70 skysportspl lfc nice bruh we aint here for hate good move  : ['neutral']\n",
            " prof_kbowman msulibraries eawebster heidischroeder msulawlib jmeland124 martin_deborah uq_library well thi https co gkbhuvz4bl : ['neutral']\n",
            "it going to be great contest between rcbtweets and lionsdenkxip all the best and good luck to both the skip https co wn78nglhop : ['positive']\n",
            " urbabywaifu those are good films  : ['negative']\n",
            " nikkihaley lindseygrahamsc millions are coming in to protect sc from going back to the good ole days of segregation  : ['negative']\n",
            "i never see anything as good or bad it more light or dark and the in between is the grey michael eklund : ['negative']\n",
            " mjmckean good album but think the cover art peaked at intravenus de milo  : ['negative']\n",
            " salvella j__donner easily policed if you ask for id at the door most of these gyms have electronic cards to swi https co d3dgertl9x : ['neutral']\n",
            "good morning https co 96szkfp37u : ['neutral']\n",
            " w_terrence that give the joker bad name karmala makes him look good : ['negative']\n",
            " martyprice777 you brother mine are just too nice for your own good have the impression all meditating hobbits are  : ['neutral']\n",
            " 4ktsbt good : ['negative']\n",
            " chloepoop get free gun as well as the free artwork today must be good day : ['negative']\n",
            "good morning bronzers  : ['neutral']\n",
            "always keep good 50 piece in your account you never know what auto draft will come in to steal kill and destroy  : ['negative']\n",
            " montse131958 macapumu4384 do and you re right don pretended to be some one you re not good day  : ['negative']\n",
            " acereyyy good evening ace hahaha : ['negative']\n",
            "good morning https co nydqbifzaa : ['neutral']\n",
            " nkostelic haven me and my fiancé have just been going at my hair with electric clippers when it gets too long https co 6wd48ttuj4 : ['neutral']\n",
            " juliansrum we will know soon if it all bullshit or not however ve never had good feeling about operator rob https co b5gnduswxi : ['negative']\n",
            " classic105kenya mikemondo1 terrymuikamba good afternoon welcome to tbt mikeandterry : ['negative']\n",
            "good morning just woke up from long ass depression nap : ['negative']\n",
            " copperranks wow this is good : ['negative']\n",
            " lugga333 good luck and german sucks : ['negative']\n",
            " caraellison kierongillen think he winning currently yeah he had it with the initial solo stuff then he bec https co dvwxvj9ge9 : ['neutral']\n",
            "i see now they all just saw me as last resort if none of the others are available was what they turned to for https co fjapa8j9vs : ['neutral']\n",
            " realomarnavarro still on my good list  : ['negative']\n",
            " savageboston can believe it been 7 years remember had school the next day and was tired af the good days : ['negative']\n",
            "but rejoice in good times and remember that life is only what you make it if you can have good attitude about https co f9rgzohxyv : ['neutral']\n",
            "good morning chicken nuggets party on discord with the community bring ur nuggets at 11 am est join my discord https co 7etlovukqu : ['neutral']\n",
            "keep saying they eat each other or saying that each other tastes good there more but thats the first thing that https co hjp0kujlvf : ['negative']\n",
            " atrupar good ol jim jones  : ['negative']\n",
            " itsavery exactly and he wants to add another baby into the mix lowkey sounds like she unsatisfied when they ha https co fm4oc4cl0q : ['neutral']\n",
            "Negative Count: 111 - 55.50%\n",
            "Neutral Count: 65 - 32.50%\n",
            "Positive Count:  24 - 12.00%\n"
          ],
          "name": "stdout"
        },
        {
          "output_type": "display_data",
          "data": {
            "image/png": "[encoded data removed]",
            "text/plain": [
              "<Figure size 432x288 with 1 Axes>"
            ]
          },
          "metadata": {
            "tags": []
          }
        },
        {
          "output_type": "stream",
          "text": [
            "2020-10-15 13:17:46 BST+0100\n"
          ],
          "name": "stdout"
        }
      ]
    }
  ]
}